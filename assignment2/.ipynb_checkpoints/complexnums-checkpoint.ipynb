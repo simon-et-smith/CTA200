{
 "cells": [
  {
   "cell_type": "markdown",
   "metadata": {},
   "source": [
    "# Q1. Behaviour of the Complex Plane"
   ]
  },
  {
   "cell_type": "code",
   "execution_count": 97,
   "metadata": {
    "collapsed": false,
    "scrolled": true
   },
   "outputs": [],
   "source": [
    "import numpy as np\n",
    "import matplotlib.pyplot as plt\n",
    "import cmath\n",
    "\n",
    "\n",
    "xl = np.arange(-1, 2, 1)\n",
    "yl = np.arange(-1, 2, 1)"
   ]
  },
  {
   "cell_type": "code",
   "execution_count": 99,
   "metadata": {
    "collapsed": false
   },
   "outputs": [
    {
     "name": "stdout",
     "output_type": "stream",
     "text": [
      "(-0-1j)\n",
      "0j\n",
      "1j\n"
     ]
    }
   ],
   "source": [
    "for i in yl:\n",
    "    print i*1j"
   ]
  },
  {
   "cell_type": "code",
   "execution_count": 21,
   "metadata": {
    "collapsed": true
   },
   "outputs": [],
   "source": [
    "c = 1 + 1j"
   ]
  },
  {
   "cell_type": "code",
   "execution_count": 22,
   "metadata": {
    "collapsed": true
   },
   "outputs": [],
   "source": [
    "z = 0"
   ]
  },
  {
   "cell_type": "code",
   "execution_count": 43,
   "metadata": {
    "collapsed": true
   },
   "outputs": [],
   "source": [
    "temp = z"
   ]
  },
  {
   "cell_type": "code",
   "execution_count": 44,
   "metadata": {
    "collapsed": true
   },
   "outputs": [],
   "source": [
    "z = temp**2 + c "
   ]
  },
  {
   "cell_type": "code",
   "execution_count": 45,
   "metadata": {
    "collapsed": false
   },
   "outputs": [
    {
     "data": {
      "text/plain": [
       "((7810996147272193+642374081668607j), (88454401+3631103j))"
      ]
     },
     "execution_count": 45,
     "metadata": {},
     "output_type": "execute_result"
    }
   ],
   "source": [
    "z, temp"
   ]
  },
  {
   "cell_type": "code",
   "execution_count": 89,
   "metadata": {
    "collapsed": true
   },
   "outputs": [],
   "source": [
    "def itsq(c, z0 = 0, ind = 10):\n",
    "    index = np.arange(0, ind, 1)\n",
    "    zs = [z0]\n",
    "    z = z0\n",
    "    for i in index:\n",
    "        temp = z\n",
    "        z = temp**2 + c\n",
    "        zs.append(z)\n",
    "        \n",
    "    return zs"
   ]
  },
  {
   "cell_type": "code",
   "execution_count": 109,
   "metadata": {
    "collapsed": false
   },
   "outputs": [
    {
     "data": {
      "text/plain": [
       "[0, -1, 0, -1, 0, -1, 0, -1, 0, -1, 0]"
      ]
     },
     "execution_count": 109,
     "metadata": {},
     "output_type": "execute_result"
    }
   ],
   "source": [
    "itsq(-1)"
   ]
  },
  {
   "cell_type": "code",
   "execution_count": 149,
   "metadata": {
    "collapsed": false
   },
   "outputs": [],
   "source": [
    "xl = np.arange(-2, 2.01, 0.01)\n",
    "yl = np.arange(-2, 2.01, 0.01)\n",
    "\n",
    "nums = []\n",
    "\n",
    "for x in xl:\n",
    "    for y in yl:\n",
    "        nums.append(x+y*1j)"
   ]
  },
  {
   "cell_type": "code",
   "execution_count": 150,
   "metadata": {
    "collapsed": false
   },
   "outputs": [],
   "source": [
    "allzs = []\n",
    "for c in nums:\n",
    "    zs = itsq(c, ind = 5)\n",
    "    allzs.append(np.asarray(zs))\n",
    "    re = []\n",
    "    im = []\n",
    "    for z in zs:\n",
    "        re.append(z.real)\n",
    "        im.append(z.imag)\n",
    "    '''  \n",
    "    plt.plot(re, im)\n",
    "    plt.title(str(c))\n",
    "    plt.xlabel(\"Real\")\n",
    "    plt.ylabel(\"Imaginary\")\n",
    "    plt.show()\n",
    "    '''\n",
    "    "
   ]
  },
  {
   "cell_type": "code",
   "execution_count": 151,
   "metadata": {
    "collapsed": false
   },
   "outputs": [],
   "source": [
    "allzs = np.asarray(allzs)"
   ]
  },
  {
   "cell_type": "code",
   "execution_count": 152,
   "metadata": {
    "collapsed": false
   },
   "outputs": [],
   "source": [
    "cs = []\n",
    "for c in allzs:\n",
    "    if abs(c[-1]) > 100:\n",
    "        cs.append([c[1], 1])\n",
    "    else:\n",
    "        cs.append([c[1], 0])"
   ]
  },
  {
   "cell_type": "code",
   "execution_count": 153,
   "metadata": {
    "collapsed": false
   },
   "outputs": [],
   "source": [
    "re = []\n",
    "im = []\n",
    "red = []\n",
    "imd = []\n",
    "for pair in cs:\n",
    "    if pair[1] == 0:\n",
    "        re.append(pair[0].real)\n",
    "        im.append(pair[0].imag)\n",
    "    elif pair[1] == 1:\n",
    "        red.append(pair[0].real)\n",
    "        imd.append(pair[0].imag)"
   ]
  },
  {
   "cell_type": "code",
   "execution_count": 157,
   "metadata": {
    "collapsed": false
   },
   "outputs": [],
   "source": [
    "plt.scatter(re, im, color=(0.01, 0.05, 0.7), s=1)\n",
    "plt.scatter(red, imd, color=(1, 0.1, 0), s=1)\n",
    "plt.show()"
   ]
  },
  {
   "cell_type": "code",
   "execution_count": null,
   "metadata": {
    "collapsed": true
   },
   "outputs": [],
   "source": []
  }
 ],
 "metadata": {
  "kernelspec": {
   "display_name": "Python 2",
   "language": "python",
   "name": "python2"
  },
  "language_info": {
   "codemirror_mode": {
    "name": "ipython",
    "version": 2
   },
   "file_extension": ".py",
   "mimetype": "text/x-python",
   "name": "python",
   "nbconvert_exporter": "python",
   "pygments_lexer": "ipython2",
   "version": "2.7.10"
  }
 },
 "nbformat": 4,
 "nbformat_minor": 0
}
